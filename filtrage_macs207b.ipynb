{
 "cells": [
  {
   "cell_type": "markdown",
   "id": "710c51c3",
   "metadata": {},
   "source": [
    "<h4 align='right'> $\\textit{Aurélien Castre, Eliott Tourtois}$ </h4>\n",
    "<h1 align='center'> $\\textbf{Filtrage - MACS207b}$ </h1>\n",
    "$\\newline$"
   ]
  },
  {
   "cell_type": "markdown",
   "id": "0a68c107",
   "metadata": {},
   "source": [
    "# Ce qu'il reste à faire :\n",
    "\n",
    "- approximation de tau\n",
    "- on pourrait ajuster le nombre de points pour l'approx de l'ODE en fct de T[i+1]-T[i]\n",
    "- tweak kmeans\n",
    "- comparer les deux méthodes"
   ]
  },
  {
   "cell_type": "code",
   "execution_count": 1,
   "id": "b6d079f7",
   "metadata": {},
   "outputs": [],
   "source": [
    "import numpy as np\n",
    "import matplotlib.pyplot as plt\n",
    "from scipy.integrate import odeint\n",
    "from sklearn.cluster import KMeans"
   ]
  },
  {
   "cell_type": "markdown",
   "id": "f46d8073",
   "metadata": {},
   "source": [
    "$\\textbf{Question 1}$\n",
    "\n",
    "$\\tau$ suit une loi exponentielle de paramètre $\\mu$, on peut donc facilement calculer $h$ :\n",
    "\n",
    "$$ h(s)=\\frac{f(s)}{1-F(s)}= \\left\\{\n",
    "    \\begin{array}{ll}\n",
    "        \\frac{\\mu\\exp(-\\mu s)}{\\exp(-\\mu s)} & \\mbox{si } s \\in \\mathbb{R}_+ \\\\\n",
    "        0 & \\mbox{sinon.}\n",
    "    \\end{array}\n",
    "\\right. = \\mu \\mathbb{1}_{\\mathbb{R}_+}(s) $$"
   ]
  },
  {
   "cell_type": "markdown",
   "id": "500367b5",
   "metadata": {},
   "source": [
    "$\\textbf{Question 2}$\n",
    "\n",
    "Pour simuler $N$ sur l'intervalle de temps $[0, T]$, on commence par tirer $\\tau$ selon une loi exponentielle de paramètre $\\mu$. Ensuite, on tire les instants de saut de $N_a$ selon une loi exponentielle de paramètre $a$ en partant de 0 et tant qu'on ne dépasse pas la valeur de $\\tau(\\omega)$. Enfin, on tire les instants de saut de $N_b$ selon une loi exponentielle de paramètre $b$ en partant de $\\tau(\\omega)$ et tant qu'on ne dépasse pas $T$."
   ]
  },
  {
   "cell_type": "code",
   "execution_count": 2,
   "id": "87be1493",
   "metadata": {},
   "outputs": [],
   "source": [
    "def N(mu, a, b, end, rng = np.random.default_rng(None)) :\n",
    "    \"\"\"Simulate the trajectory of N between 0 and T\n",
    "\n",
    "    Parameters\n",
    "    ----------\n",
    "    mu : float\n",
    "        The parameter of the exponential distribution of tau\n",
    "    a : float\n",
    "        The parameter of the Poisson process before tau\n",
    "    b : float\n",
    "        The parameter of the Poisson process after tau\n",
    "    end : float\n",
    "        The end of the simulation\n",
    "    rng : Generator, optional\n",
    "        A Random Number Generator for reproducibility\n",
    "        (default is np.random.default_rng(None))\n",
    "\n",
    "    Returns\n",
    "    -------\n",
    "    float\n",
    "        The value of tau in the simulation\n",
    "    list\n",
    "        The list of arrival times of the Poisson process before tau\n",
    "    list\n",
    "        The list of arrival times of the Poisson process after tau\n",
    "        (empty if tau > T)\n",
    "    \"\"\"\n",
    "    \n",
    "    # Simulate tau using inverse transform sampling\n",
    "    u = rng.uniform()\n",
    "    tau = -1/mu*np.log(u)\n",
    "    \n",
    "    # Simulate the first Poisson process\n",
    "    Tas = []\n",
    "    t = 0\n",
    "    while t <= min(tau, end) :\n",
    "        u = rng.uniform()\n",
    "        t += -1/a*np.log(u)\n",
    "        Tas.append(t)\n",
    "    Tas.pop()\n",
    "    \n",
    "    # Simulate the second Poisson process\n",
    "    Tbs = []\n",
    "    t = tau\n",
    "    while t <= end :\n",
    "        u = rng.uniform()\n",
    "        t += -1/b*np.log(u)\n",
    "        Tbs.append(t)\n",
    "    # Pop the last arrival time (which might be greater that T) only\n",
    "    # if Tbs is not empty (which is the case when tau > T)\n",
    "    if Tbs:\n",
    "        Tbs.pop()\n",
    "        \n",
    "    return tau, Tas, Tbs"
   ]
  },
  {
   "cell_type": "code",
   "execution_count": 3,
   "id": "f6310843",
   "metadata": {},
   "outputs": [],
   "source": [
    "def plotN(tau, Tas, Tbs, end) :\n",
    "    \"\"\"Plots the graph of the process N\n",
    "\n",
    "    Parameters\n",
    "    ----------\n",
    "    tau : float\n",
    "        The value of the random time after which the rate changes\n",
    "    Tas : list\n",
    "        The list of arrival times of the Poisson process before tau\n",
    "    Tbs : list\n",
    "        The list of arrival times of the Poisson process after tau\n",
    "    end : float\n",
    "        The end of the simulation\n",
    "    \"\"\"\n",
    "    \n",
    "    T = Tas + Tbs\n",
    "    plt.figure(figsize = (16,6))\n",
    "    plt.step([0] + T + [end], [0] + [i for i in range(len(T) + 1)], label=r'$N(t)$')\n",
    "    if tau <= end:\n",
    "        plt.vlines(tau, 0, len(T) + 1, color='r', label=rf'$\\tau \\approx $' + str(tau)[:4])\n",
    "    else:\n",
    "        plt.vlines(0, 0, 0, color='r', label=r'$\\tau \\approx $' + str(tau)[:4])\n",
    "    plt.legend(loc = 'right', fontsize = 18)\n",
    "    plt.xticks(range(end + 1))\n",
    "    plt.grid()"
   ]
  },
  {
   "cell_type": "code",
   "execution_count": 12,
   "id": "2599f9a2",
   "metadata": {},
   "outputs": [
    {
     "data": {
      "image/png": "[encoded data removed]",
      "text/plain": [
       "<Figure size 1152x432 with 1 Axes>"
      ]
     },
     "metadata": {
      "needs_background": "light"
     },
     "output_type": "display_data"
    }
   ],
   "source": [
    "seed = 1\n",
    "rng = np.random.default_rng(seed)\n",
    "\n",
    "mu = 0.2\n",
    "a = 5\n",
    "b = 10\n",
    "end = 10\n",
    "\n",
    "tau, Tas, Tbs = N(mu, a, b, end, rng)\n",
    "plotN(tau, Tas, Tbs, end)\n",
    "plt.title(rf\"Simulation of $N$ between $t = 0$ and {end} with $\\mu = {mu}, a = {a}, b = {b}$\", fontsize = 20)\n",
    "plt.show()"
   ]
  },
  {
   "cell_type": "markdown",
   "id": "1175cf0d",
   "metadata": {},
   "source": [
    "$\\textbf{Question 3}$\n",
    "\n",
    "Pour calculer $\\hat Z$, on utilise le résultat de la question 10 de l'exercice 2.2 du polycopié, *i.e.*\n",
    "$$\\hat{Z}(t) = \\hat{Z}(T_n) + \\int_{T_n}^t \\left(h(s) - (b-a)\\hat{Z}(s)\\right)\\left(1-\\hat{Z}(s)\\right)\\mathrm{d}s$$\n",
    "\n",
    "On remarque qu'en dehors des instants de sauts, $\\hat Z$ est $\\mathcal{C}^1$. On peut donc dériver l'équation ci-dessus pour obtenir l'équation différentielle ci-dessous que nous résoudrons numériquement entre chaque instant de saut :\n",
    "$$\\frac{\\mathrm{d}}{\\mathrm{d}t}\\hat{Z}(t) = \\left(\\mu - (b-a)\\hat{Z}(t)\\right)\\left(1-\\hat{Z}(t)\\right)$$\n",
    "\n",
    "Quant à la valeur aux instants de sauts, elle est donnée par la formule\n",
    "$$\\hat{Z}(T_n) - \\hat{Z}(T_n^-) = \\frac{(b-a)\\hat{Z}(T_n^-)\\left(1-\\hat{Z}(T_n^-)\\right)}{a + (b-a)\\hat{Z}(T_n^-)}$$\n",
    "\n",
    "Pour approximer $\\hat{Z}(T_n^-)$, on choisira simplement le dernier point de la simulation numérique qui précède le saut.\n",
    "\n",
    "Dans la suite du code, `Z` désignera $\\hat Z$."
   ]
  },
  {
   "cell_type": "code",
   "execution_count": 5,
   "id": "cda2ad73",
   "metadata": {},
   "outputs": [],
   "source": [
    "def Z(mu, a, b, end, T, num = 50) :\n",
    "    \"\"\"Computes an approximation of the conditional expectation Z(t) for\n",
    "    all t between 0 and T\n",
    "\n",
    "    Parameters\n",
    "    ----------\n",
    "    mu : float\n",
    "        The parameter of the exponential distribution of tau\n",
    "    a : float\n",
    "        The parameter of the Poisson process before tau\n",
    "    b : float\n",
    "        The parameter of the Poisson process after tau\n",
    "    end : float\n",
    "        The end of the simulation\n",
    "    T : list\n",
    "        The arrival times of N\n",
    "    num : int, optional\n",
    "        The number of points used to approximate Z between any two arrival times\n",
    "        (default is 50)\n",
    "\n",
    "    Returns\n",
    "    -------\n",
    "    list\n",
    "        The list of points used to plot Z (linspaces + arrival times)\n",
    "    numpy array\n",
    "        1D array of values of Z\n",
    "    \"\"\"\n",
    "\n",
    "    dZ = lambda y, t : (mu - (b - a)*y)*(1 - y)\n",
    "    z = [0]\n",
    "    ts = []\n",
    "    \n",
    "    for i in range(len(T) - 1):\n",
    "        t = np.linspace(T[i], T[i+1], num)[:-1]\n",
    "        ts += list(t)\n",
    "        # Solve the differential equation between two points\n",
    "        z = np.append(z, odeint(dZ, z[-1], t).flatten())\n",
    "        zjump = (b-a)*z[-1]*(1 - z[-1])/(a + (b-a)*z[-1])\n",
    "        # Add the jump\n",
    "        z = np.append(z, zjump + z[-1])\n",
    "        ts.append(T[i+1])\n",
    "\n",
    "    return ts, z[1:]"
   ]
  },
  {
   "cell_type": "code",
   "execution_count": 6,
   "id": "e63eaf66",
   "metadata": {},
   "outputs": [],
   "source": [
    "def plotZ(ts, z, tau, end) :\n",
    "    \"\"\"Plots the graph of the process N\n",
    "\n",
    "    Parameters\n",
    "    ----------\n",
    "    tau : float\n",
    "        The value of the random time after which the rate changes\n",
    "    Tas : list\n",
    "        The list of arrival times of the Poisson process before tau\n",
    "    Tbs : list\n",
    "        The list of arrival times of the Poisson process after tau\n",
    "    end : float\n",
    "        The end of the simulation\n",
    "    \"\"\"\n",
    "    \n",
    "    plt.figure(figsize = (16,6))\n",
    "    plt.plot(ts, z, label=r'$\\hatZ (t) = \\mathbb{E}\\left[\\mathbb{1}_{\\tau \\leq t}|\\mathcal{F}^N_t\\right]$')\n",
    "    plt.xticks(range(end + 1))\n",
    "    if tau <= end:\n",
    "        plt.vlines(tau, 0, 1, color='r', label=rf'$\\tau \\approx $' + str(tau)[:4])\n",
    "    else:\n",
    "        plt.vlines(0, 0, 0, color='r', label=rf'$\\tau \\approx $' + str(tau)[:4])\n",
    "    plt.legend(fontsize = 15)\n",
    "    plt.grid()"
   ]
  },
  {
   "cell_type": "code",
   "execution_count": 19,
   "id": "836ad360",
   "metadata": {},
   "outputs": [
    {
     "data": {
      "image/png": "[encoded data removed]",
      "text/plain": [
       "<Figure size 1152x432 with 1 Axes>"
      ]
     },
     "metadata": {
      "needs_background": "light"
     },
     "output_type": "display_data"
    }
   ],
   "source": [
    "T = [0] + Tas + Tbs\n",
    "ts, z = Z(mu, a, b, end, T)\n",
    "\n",
    "plotZ(ts, z, tau, end)\n",
    "plt.title(rf\"Approximation of $\\hatZ (t)$ between $t = 0$ and {end} with $\\mu = {mu}, a = {a}, b = {b}$\", fontsize = 20)\n",
    "plt.show()"
   ]
  },
  {
   "cell_type": "markdown",
   "id": "150a13bf",
   "metadata": {},
   "source": [
    "$\\textbf{Question 4}$\n",
    "\n",
    "On commence par une application naïve de l'algorithme."
   ]
  },
  {
   "cell_type": "code",
   "execution_count": 44,
   "id": "d836c8cd",
   "metadata": {},
   "outputs": [
    {
     "data": {
      "text/plain": [
       "array([1, 1, 1, 1, 1, 1, 1, 1, 1, 1, 1, 1, 1, 1, 1, 1, 1, 1, 1, 1, 1, 1,\n",
       "       1, 1, 1, 1, 1, 1, 1, 1, 1, 1, 1, 1, 1, 1, 1, 1, 0, 0, 0, 0, 0, 0,\n",
       "       0, 0, 0, 0, 0, 0, 0, 0, 0, 0, 0, 0, 0, 0, 0, 0, 0, 0, 0, 0, 0, 0,\n",
       "       0, 0, 0, 0, 0, 0, 0, 0, 0, 0, 0, 0, 0, 0, 0, 0, 0, 0, 0, 0, 0, 0,\n",
       "       0, 0, 0])"
      ]
     },
     "execution_count": 44,
     "metadata": {},
     "output_type": "execute_result"
    }
   ],
   "source": [
    "kmeans = KMeans(n_clusters=2, n_init=10, init='k-means++').fit(np.array(T).reshape(-1, 1))\n",
    "pred = kmeans.predict(np.array(T).reshape(-1, 1))\n",
    "pred"
   ]
  },
  {
   "cell_type": "code",
   "execution_count": 9,
   "id": "558f6b70",
   "metadata": {},
   "outputs": [],
   "source": [
    "m = np.array(T).mean()\n",
    "def init(X, n_clusters, random_state):\n",
    "    # We have only one feature :\n",
    "    X = X.flatten() + m\n",
    "    i = len([x for x in X if x < 1/mu])\n",
    "    n = len(X)\n",
    "    return [X[random_state.randint(i, n)]-m], [X[random_state.randint(0, i)]-m]"
   ]
  },
  {
   "cell_type": "code",
   "execution_count": 10,
   "id": "6d0c8a9c",
   "metadata": {},
   "outputs": [
    {
     "name": "stdout",
     "output_type": "stream",
     "text": [
      "5.078291569485487 5.197249697815504\n"
     ]
    }
   ],
   "source": [
    "T = [0] + Tas + Tbs\n",
    "kmeans = KMeans(n_clusters=2, n_init=1000, init=init).fit(np.array(T).reshape(-1, 1))\n",
    "pred = kmeans.predict(np.array(T).reshape(-1, 1))\n",
    "print(T[pred.sum()-1], T[pred.sum()])"
   ]
  },
  {
   "cell_type": "markdown",
   "id": "b9447af9",
   "metadata": {},
   "source": [
    "$\\textbf{Question 5}$\n",
    "- Pour k means il choisit un des sauts qui lui apparaissent bons mais aléatoirement\n",
    "- k means n'utilise pas les données d'entrée (a,b,$\\mu$)\n",
    "- Pour l'autre méthode, on peut regarder la stabilité qui suit et donc choisir le seul truc stable"
   ]
  }
 ],
 "metadata": {
  "kernelspec": {
   "display_name": "Python 3 (ipykernel)",
   "language": "python",
   "name": "python3"
  },
  "language_info": {
   "codemirror_mode": {
    "name": "ipython",
    "version": 3
   },
   "file_extension": ".py",
   "mimetype": "text/x-python",
   "name": "python",
   "nbconvert_exporter": "python",
   "pygments_lexer": "ipython3",
   "version": "3.9.7"
  }
 },
 "nbformat": 4,
 "nbformat_minor": 5
}
