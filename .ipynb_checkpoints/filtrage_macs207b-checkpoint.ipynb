{
 "cells": [
  {
   "cell_type": "code",
   "execution_count": 622,
   "id": "b6d079f7",
   "metadata": {},
   "outputs": [],
   "source": [
    "import numpy as np\n",
    "import matplotlib.pyplot as plt\n",
    "from scipy.integrate import odeint\n",
    "from sklearn.cluster import KMeans\n",
    "\n",
    "mu = 0.2\n",
    "a = 5\n",
    "b = 10"
   ]
  },
  {
   "cell_type": "markdown",
   "id": "744f5605",
   "metadata": {},
   "source": [
    "$\\textbf{Question 1}$\n",
    "\n",
    "$$ h(s)=\\frac{f(s)}{1-F(s)}= \\left\\{\n",
    "    \\begin{array}{ll}\n",
    "        \\frac{\\mu\\exp(-\\mu s)}{\\exp(-\\mu s)} & \\mbox{si } s \\in \\mathbb{R}_+ \\\\\n",
    "        0 & \\mbox{sinon.}\n",
    "    \\end{array}\n",
    "\\right. = \\mu \\mathbb{1}_{\\mathbb{R}_+}(s) $$"
   ]
  },
  {
   "cell_type": "markdown",
   "id": "9e80eff0",
   "metadata": {},
   "source": [
    "$\\textbf{Question 2}$"
   ]
  },
  {
   "cell_type": "code",
   "execution_count": 628,
   "id": "94475d97",
   "metadata": {},
   "outputs": [
    {
     "data": {
      "image/png": "[encoded data removed]",
      "text/plain": [
       "<Figure size 1152x432 with 1 Axes>"
      ]
     },
     "metadata": {
      "needs_background": "light"
     },
     "output_type": "display_data"
    }
   ],
   "source": [
    "# Tirage de tau\n",
    "# taus = []\n",
    "# for i in range(1000) :\n",
    "#     u = np.random.uniform()\n",
    "#     tau = -1/mu*np.log(u)\n",
    "#     taus.append(tau)\n",
    "    \n",
    "# plt.hist(taus)\n",
    "# plt.plot()\n",
    "\n",
    "#TODO np.random.seed(42)\n",
    "\n",
    "u = np.random.uniform()\n",
    "tau = -1/mu*np.log(u)\n",
    "\n",
    "# Tirage des instants de saut de Na\n",
    "Tas = []\n",
    "t = 0\n",
    "while t <= min(tau, 10):\n",
    "    u = np.random.uniform()\n",
    "    t += -1/a*np.log(u)\n",
    "    Tas.append(t)\n",
    "Tas.pop()\n",
    "    \n",
    "# Tirage des instants de saut de Nb\n",
    "Tbs = []\n",
    "t = tau\n",
    "while t <= 10:\n",
    "    u = np.random.uniform()\n",
    "    t += -1/b*np.log(u)\n",
    "    Tbs.append(t)\n",
    "if Tbs:\n",
    "    Tbs.pop()    \n",
    "\n",
    "plt.figure(figsize = (16,6))\n",
    "plt.step([0] + Tas + Tbs + [10], [0] + [i for i in range(len(Tas + Tbs) + 1)], label=\"N\")\n",
    "if tau <= 10:\n",
    "    plt.vlines(tau, 0, len(Tas + Tbs) + 1, color='r', label=f\"$tau = {tau}$\")\n",
    "else:\n",
    "    plt.vlines(0, 0, 0, color='r', label=f\"$tau = {tau}$\")\n",
    "plt.legend()\n",
    "plt.xticks(range(11))\n",
    "plt.grid()"
   ]
  },
  {
   "cell_type": "code",
   "execution_count": 328,
   "id": "0f146729",
   "metadata": {},
   "outputs": [],
   "source": [
    "def N(t) :\n",
    "    return len([e for e in Tas+Tbs if e <= t])"
   ]
  },
  {
   "cell_type": "markdown",
   "id": "19967f40",
   "metadata": {},
   "source": [
    "$\\textbf{Question 3}$"
   ]
  },
  {
   "cell_type": "code",
   "execution_count": 624,
   "id": "9953199f",
   "metadata": {},
   "outputs": [
    {
     "data": {
      "text/plain": [
       "[<matplotlib.lines.Line2D at 0x1c99bce79a0>]"
      ]
     },
     "execution_count": 624,
     "metadata": {},
     "output_type": "execute_result"
    },
    {
     "data": {
      "image/png": "[encoded data removed]",
      "text/plain": [
       "<Figure size 432x288 with 1 Axes>"
      ]
     },
     "metadata": {
      "needs_background": "light"
     },
     "output_type": "display_data"
    }
   ],
   "source": [
    "def dZ(y, t):\n",
    "    return (mu - (b - a)*y)*(1 - y)\n",
    "\n",
    "# Calcul de Z\n",
    "def Z(num):\n",
    "    z = [0]\n",
    "    ts = []\n",
    "    T = [0] + Tas + Tbs\n",
    "    for i in range(len(T) - 1):\n",
    "        t = np.linspace(T[i], T[i+1], num)[:-1]\n",
    "        ts += list(t)\n",
    "        z = np.append(z, odeint(dZ, z[-1], t).flatten())\n",
    "        zjump = (b-a)*z[-1]*(1 - z[-1])/(a + (b-a)*z[-1])\n",
    "        z = np.append(z, zjump + z[-1])\n",
    "        ts.append(T[i+1])\n",
    "    return ts, z[1:]\n",
    "\n",
    "z = Z(1000)\n",
    "# on pourrait ajuster le nombre de points pour l'approx de l'ODE en fct de T[i+1]-T[i]\n",
    "plt.plot(z[0], z[1])"
   ]
  },
  {
   "cell_type": "markdown",
   "id": "a1899c1d",
   "metadata": {},
   "source": [
    "$\\textbf{Estimation tau ???}$"
   ]
  },
  {
   "cell_type": "markdown",
   "id": "7491183e",
   "metadata": {},
   "source": [
    "$\\textbf{Estimation tau ???}$"
   ]
  },
  {
   "cell_type": "markdown",
   "id": "71cf20a1",
   "metadata": {},
   "source": [
    "$\\textbf{Estimation tau ???}$"
   ]
  },
  {
   "cell_type": "markdown",
   "id": "81e041bd",
   "metadata": {},
   "source": [
    "$\\textbf{Estimation tau ???}$"
   ]
  },
  {
   "cell_type": "markdown",
   "id": "6d2f9a80",
   "metadata": {},
   "source": [
    "$\\textbf{Estimation tau ???}$"
   ]
  },
  {
   "cell_type": "markdown",
   "id": "54339087",
   "metadata": {},
   "source": [
    "$\\textbf{Estimation tau ???}$"
   ]
  },
  {
   "cell_type": "markdown",
   "id": "7a1c56e9",
   "metadata": {},
   "source": [
    "$\\textbf{Estimation tau ???}$"
   ]
  },
  {
   "cell_type": "markdown",
   "id": "6abc30bc",
   "metadata": {},
   "source": [
    "$\\textbf{Question 4}$"
   ]
  },
  {
   "cell_type": "code",
   "execution_count": 646,
   "id": "b7fff648",
   "metadata": {},
   "outputs": [],
   "source": [
    "T = [0] + Tas + Tbs\n",
    "m = np.array(T).mean()"
   ]
  },
  {
   "cell_type": "code",
   "execution_count": 647,
   "id": "dfcb5008",
   "metadata": {},
   "outputs": [],
   "source": [
    "def init(X, n_clusters, random_state):\n",
    "    # We have only one feature :\n",
    "    X = X.flatten() + m\n",
    "    i = len([x for x in X if x < 1/mu])\n",
    "    n = len(X)\n",
    "    return [X[random_state.randint(i, n)]-m], [X[random_state.randint(0, i)]-m]"
   ]
  },
  {
   "cell_type": "code",
   "execution_count": 648,
   "id": "f303004f",
   "metadata": {},
   "outputs": [
    {
     "name": "stdout",
     "output_type": "stream",
     "text": [
      "5.376720864932802 5.574592330356572\n"
     ]
    }
   ],
   "source": [
    "T = [0] + Tas + Tbs\n",
    "kmeans = KMeans(n_clusters=2, n_init=1000, init=init).fit(np.array(T).reshape(-1, 1))\n",
    "pred = kmeans.predict(np.array(T).reshape(-1, 1))\n",
    "print(T[pred.sum()-1], T[pred.sum()])"
   ]
  },
  {
   "cell_type": "markdown",
   "id": "eeba3569",
   "metadata": {},
   "source": [
    "- Pour k means il choisit un des sauts qui lui apparaissent bons mais aléatoirement\n",
    "- k means n'utilise pas les données d'entrée (a,b,$\\mu$)\n",
    "- Pour l'autre méthode, on peut regarder la stabilité qui suit et donc choisir le seul truc stable"
   ]
  },
  {
   "cell_type": "code",
   "execution_count": null,
   "id": "c241e95c",
   "metadata": {},
   "outputs": [],
   "source": []
  }
 ],
 "metadata": {
  "kernelspec": {
   "display_name": "Python 3 (ipykernel)",
   "language": "python",
   "name": "python3"
  },
  "language_info": {
   "codemirror_mode": {
    "name": "ipython",
    "version": 3
   },
   "file_extension": ".py",
   "mimetype": "text/x-python",
   "name": "python",
   "nbconvert_exporter": "python",
   "pygments_lexer": "ipython3",
   "version": "3.9.7"
  }
 },
 "nbformat": 4,
 "nbformat_minor": 5
}
