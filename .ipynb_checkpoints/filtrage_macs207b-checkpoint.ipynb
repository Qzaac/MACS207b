{
 "cells": [
  {
   "cell_type": "markdown",
   "id": "6965df59",
   "metadata": {},
   "source": [
    "<h4 align='right'> $\\textit{Aurélien Castre, Eliott Tourtois}$ </h4>\n",
    "<h1 align='center'> $\\textbf{Filtrage - MACS207b}$ </h1>\n",
    "$\\newline$"
   ]
  },
  {
   "cell_type": "markdown",
   "id": "02f67937",
   "metadata": {},
   "source": [
    "# Ce qu'il reste à faire :\n",
    "\n",
    "- essayer de se rapprocher au max d'une sigmoide par ex ou carrement d'une indicatrice\n",
    "- approximation de tau\n",
    "- on pourrait ajuster le nombre de points pour l'approx de l'ODE en fct de T[i+1]-T[i]\n",
    "- tweak kmeans\n",
    "- comparer les deux méthodes"
   ]
  },
  {
   "cell_type": "code",
   "execution_count": 4,
   "id": "b6d079f7",
   "metadata": {},
   "outputs": [],
   "source": [
    "import numpy as np\n",
    "import matplotlib.pyplot as plt\n",
    "from matplotlib.patches import Rectangle\n",
    "from scipy.integrate import odeint\n",
    "from scipy import signal\n",
    "from sklearn.cluster import KMeans"
   ]
  },
  {
   "cell_type": "markdown",
   "id": "f46d8073",
   "metadata": {},
   "source": [
    "$\\textbf{Question 1}$\n",
    "\n",
    "$\\tau$ suit une loi exponentielle de paramètre $\\mu$, on peut donc facilement calculer $h$ :\n",
    "\n",
    "$$ h(s)=\\frac{f(s)}{1-F(s)}= \\left\\{\n",
    "    \\begin{array}{ll}\n",
    "        \\frac{\\mu\\exp(-\\mu s)}{\\exp(-\\mu s)} & \\mbox{si } s \\in \\mathbb{R}_+ \\\\\n",
    "        0 & \\mbox{sinon.}\n",
    "    \\end{array}\n",
    "\\right. = \\mu \\mathbb{1}_{\\mathbb{R}_+}(s) $$"
   ]
  },
  {
   "cell_type": "markdown",
   "id": "500367b5",
   "metadata": {},
   "source": [
    "$\\textbf{Question 2}$\n",
    "\n",
    "Pour simuler $N$ sur l'intervalle de temps $[0, T]$, on commence par tirer $\\tau$ selon une loi exponentielle de paramètre $\\mu$. Ensuite, on tire les instants de saut de $N_a$ selon une loi exponentielle de paramètre $a$ en partant de 0 et tant qu'on ne dépasse pas la valeur de $\\tau(\\omega)$. Enfin, on tire les instants de saut de $N_b$ selon une loi exponentielle de paramètre $b$ en partant de $\\tau(\\omega)$ et tant qu'on ne dépasse pas $T$."
   ]
  },
  {
   "cell_type": "code",
   "execution_count": 5,
   "id": "8ef284be",
   "metadata": {},
   "outputs": [],
   "source": [
    "def N(mu, a, b, end, rng = np.random.default_rng(None)) :\n",
    "    \"\"\"Simulate the trajectory of N between 0 and T\n",
    "\n",
    "    Parameters\n",
    "    ----------\n",
    "    mu : float\n",
    "        The parameter of the exponential distribution of tau\n",
    "    a : float\n",
    "        The parameter of the Poisson process before tau\n",
    "    b : float\n",
    "        The parameter of the Poisson process after tau\n",
    "    end : float\n",
    "        The end of the simulation\n",
    "    rng : Generator, optional\n",
    "        A Random Number Generator for reproducibility\n",
    "        (default is np.random.default_rng(None))\n",
    "\n",
    "    Returns\n",
    "    -------\n",
    "    float\n",
    "        The value of tau in the simulation\n",
    "    list\n",
    "        The list of arrival times of the Poisson process before tau\n",
    "    list\n",
    "        The list of arrival times of the Poisson process after tau\n",
    "        (empty if tau > T)\n",
    "    \"\"\"\n",
    "    \n",
    "    # Simulate tau using inverse transform sampling\n",
    "    u = rng.uniform()\n",
    "    tau = -1/mu*np.log(u)\n",
    "    \n",
    "    # Simulate the first Poisson process\n",
    "    Tas = []\n",
    "    t = 0\n",
    "    while t <= min(tau, end) :\n",
    "        u = rng.uniform()\n",
    "        t += -1/a*np.log(u)\n",
    "        Tas.append(t)\n",
    "    Tas.pop()\n",
    "    \n",
    "    # Simulate the second Poisson process\n",
    "    Tbs = []\n",
    "    t = tau\n",
    "    while t <= end :\n",
    "        u = rng.uniform()\n",
    "        t += -1/b*np.log(u)\n",
    "        Tbs.append(t)\n",
    "    # Pop the last arrival time (which might be greater that T) only\n",
    "    # if Tbs is not empty (which is the case when tau > T)\n",
    "    if Tbs:\n",
    "        Tbs.pop()\n",
    "        \n",
    "    return tau, Tas, Tbs"
   ]
  },
  {
   "cell_type": "code",
   "execution_count": 114,
   "id": "0a425b47",
   "metadata": {},
   "outputs": [],
   "source": [
    "def plotN(tau, Tas, Tbs, end, z_estimate = None, kmeans_estimate = None) :\n",
    "    \"\"\"Plots the graph of the process N\n",
    "\n",
    "    Parameters\n",
    "    ----------\n",
    "    tau : float\n",
    "        The value of the random time after which the rate changes\n",
    "    Tas : list\n",
    "        The list of arrival times of the Poisson process before tau\n",
    "    Tbs : list\n",
    "        The list of arrival times of the Poisson process after tau\n",
    "    end : float\n",
    "        The end of the simulation\n",
    "    z_estimate : float, optional\n",
    "        Plots the estimated value of tau using Z\n",
    "        (defaults is None)\n",
    "    kmeans_estimate : tuple, optional\n",
    "        Plots the estimated interval of tau using kmeans\n",
    "        (defaults is None)\n",
    "    \"\"\"\n",
    "    \n",
    "    T = Tas + Tbs\n",
    "    plt.figure(figsize = (16,6))\n",
    "    plt.step([0] + T + [end], [0] + [i for i in range(len(T) + 1)], label=r'$N(t)$')\n",
    "    \n",
    "    if tau <= end:\n",
    "        plt.vlines(tau, 0, len(T) + 1, color='r', label=rf'$\\tau \\approx $' + str(tau)[:4])\n",
    "    else:\n",
    "        plt.vlines(0, 0, 0, color='r', label=r'$\\tau \\approx $' + str(tau)[:4])\n",
    "    \n",
    "    if kmeans_estimate :\n",
    "        plt.fill_betweenx(np.linspace(0,len(T) + 1), kmeans_estimate[0], kmeans_estimate[1], alpha = 0.2,\\\n",
    "                          color = 'g', label = \"kmeans estimate\")\n",
    "    if z_estimate :\n",
    "        plt.vlines(z_estimate, 0, len(T) + 1, color='g', label=r'$\\hat{\\tau} \\approx $' + str(z_estimate)[:4])\n",
    "    \n",
    "    plt.legend(loc = 'right', fontsize = 18)\n",
    "    plt.xticks(range(end + 1))\n",
    "    plt.grid()"
   ]
  },
  {
   "cell_type": "code",
   "execution_count": 7,
   "id": "5837c22b",
   "metadata": {},
   "outputs": [
    {
     "data": {
      "image/png": "[encoded data removed]",
      "text/plain": [
       "<Figure size 1152x432 with 1 Axes>"
      ]
     },
     "metadata": {
      "needs_background": "light"
     },
     "output_type": "display_data"
    }
   ],
   "source": [
    "seed = 56\n",
    "# 5 c'est très mauvais pour kmeans, 3 tau est loin, 4 tau est au tout début, 2 Z est pas ouf\n",
    "rng = np.random.default_rng(seed)\n",
    "\n",
    "mu = 0.2\n",
    "a = 5\n",
    "b = 10\n",
    "end = 10\n",
    "\n",
    "tau, Tas, Tbs = N(mu, a, b, end, rng)\n",
    "plotN(tau, Tas, Tbs, end)\n",
    "plt.title(rf\"Simulation of $N$ between $t = 0$ and {end} with $\\mu = {mu}, a = {a}, b = {b}$\", fontsize = 20)\n",
    "plt.show()"
   ]
  },
  {
   "cell_type": "markdown",
   "id": "1175cf0d",
   "metadata": {},
   "source": [
    "$\\textbf{Question 3}$\n",
    "\n",
    "Pour calculer $\\hat Z$, on utilise le résultat de la question 10 de l'exercice 2.2 du polycopié, *i.e.*\n",
    "$$\\hat{Z}(t) = \\hat{Z}(T_n) + \\int_{T_n}^t \\left(h(s) - (b-a)\\hat{Z}(s)\\right)\\left(1-\\hat{Z}(s)\\right)\\mathrm{d}s$$\n",
    "\n",
    "On remarque qu'en dehors des instants de sauts, $\\hat Z$ est $\\mathcal{C}^1$. On peut donc dériver l'équation ci-dessus pour obtenir l'équation différentielle ci-dessous que nous résoudrons numériquement entre chaque instant de saut :\n",
    "$$\\frac{\\mathrm{d}}{\\mathrm{d}t}\\hat{Z}(t) = \\left(\\mu - (b-a)\\hat{Z}(t)\\right)\\left(1-\\hat{Z}(t)\\right)$$\n",
    "\n",
    "Quant à la valeur aux instants de sauts, elle est donnée par la formule\n",
    "$$\\hat{Z}(T_n) - \\hat{Z}(T_n^-) = \\frac{(b-a)\\hat{Z}(T_n^-)\\left(1-\\hat{Z}(T_n^-)\\right)}{a + (b-a)\\hat{Z}(T_n^-)}$$\n",
    "\n",
    "Pour approximer $\\hat{Z}(T_n^-)$, on choisira simplement le dernier point de la simulation numérique qui précède le saut.\n",
    "\n",
    "Dans la suite du code, `Z` désignera $\\hat Z$."
   ]
  },
  {
   "cell_type": "code",
   "execution_count": 8,
   "id": "cda2ad73",
   "metadata": {},
   "outputs": [],
   "source": [
    "def Z(mu, a, b, end, T, num = 50) :\n",
    "    \"\"\"Computes an approximation of the conditional expectation Z(t) for\n",
    "    all t between 0 and T\n",
    "\n",
    "    Parameters\n",
    "    ----------\n",
    "    mu : float\n",
    "        The parameter of the exponential distribution of tau\n",
    "    a : float\n",
    "        The parameter of the Poisson process before tau\n",
    "    b : float\n",
    "        The parameter of the Poisson process after tau\n",
    "    end : float\n",
    "        The end of the simulation\n",
    "    T : list\n",
    "        The arrival times of N\n",
    "    num : int, optional\n",
    "        The number of points used to approximate Z between any two arrival times\n",
    "        (default is 50)\n",
    "\n",
    "    Returns\n",
    "    -------\n",
    "    list\n",
    "        The list of points used to plot Z (linspaces + arrival times)\n",
    "    numpy array\n",
    "        1D array of values of Z\n",
    "    \"\"\"\n",
    "\n",
    "    dZ = lambda y, t : (mu - (b - a)*y)*(1 - y)\n",
    "    z = [0]\n",
    "    ts = []\n",
    "    jumps = []\n",
    "    for i in range(len(T) - 1):\n",
    "        t = np.linspace(T[i], T[i+1], num)[:-1]\n",
    "        ts += list(t)\n",
    "        # Solve the differential equation between two points\n",
    "        z = np.append(z, odeint(dZ, z[-1], t).flatten())\n",
    "        zjump = (b-a)*z[-1]*(1 - z[-1])/(a + (b-a)*z[-1])\n",
    "        # Add the jump\n",
    "        z = np.append(z, zjump + z[-1])\n",
    "        jumps.append(zjump + z[-1])\n",
    "        ts.append(T[i+1])\n",
    "\n",
    "    return ts, z[1:], jumps"
   ]
  },
  {
   "cell_type": "code",
   "execution_count": 9,
   "id": "fb2b4bec",
   "metadata": {},
   "outputs": [],
   "source": [
    "def plotZ(ts, z, tau, end) :\n",
    "    \"\"\"Plots the graph of the process N\n",
    "\n",
    "    Parameters\n",
    "    ----------\n",
    "    tau : float\n",
    "        The value of the random time after which the rate changes\n",
    "    Tas : list\n",
    "        The list of arrival times of the Poisson process before tau\n",
    "    Tbs : list\n",
    "        The list of arrival times of the Poisson process after tau\n",
    "    end : float\n",
    "        The end of the simulation\n",
    "    \"\"\"\n",
    "    \n",
    "    plt.figure(figsize = (16,6))\n",
    "    plt.plot(ts, z, label=r'$\\hatZ (t) = \\mathbb{E}\\left[\\mathbb{1}_{\\tau \\leq t}|\\mathcal{F}^N_t\\right]$')\n",
    "    plt.xticks(range(end + 1))\n",
    "    if tau <= end:\n",
    "        plt.vlines(tau, 0, 1, color='r', label=rf'$\\tau \\approx $' + str(tau)[:4])\n",
    "    else:\n",
    "        plt.vlines(0, 0, 0, color='r', label=rf'$\\tau \\approx $' + str(tau)[:4])\n",
    "    plt.legend(fontsize = 15)\n",
    "    plt.grid()"
   ]
  },
  {
   "cell_type": "code",
   "execution_count": 10,
   "id": "d2dc1fa2",
   "metadata": {},
   "outputs": [
    {
     "data": {
      "image/png": "[encoded data removed]",
      "text/plain": [
       "<Figure size 1152x432 with 1 Axes>"
      ]
     },
     "metadata": {
      "needs_background": "light"
     },
     "output_type": "display_data"
    }
   ],
   "source": [
    "T = [0] + Tas + Tbs\n",
    "ts, z, jumps = Z(mu, a, b, end, T)\n",
    "\n",
    "plotZ(ts, z, tau, end)\n",
    "plt.title(rf\"Approximation of $\\hatZ (t)$ between $t = 0$ and {end} with $\\mu = {mu}, a = {a}, b = {b}$\", fontsize = 20)\n",
    "plt.show()"
   ]
  },
  {
   "cell_type": "markdown",
   "id": "61ad202e",
   "metadata": {},
   "source": [
    "Il faut ensuite calculer l'approximation de $\\tau$. Pour cela, nous proposons une méthode en deux temps.\n",
    "- Il faut d'abord lisser la courbe de $\\hat{Z}$ pour ignorer les sauts ainsi que les erreurs qui peuvent être commises du fait du caractère aléatoire des données (par malchance, on peut avoir beaucoup de sauts rapprochés avant $\\tau$, ce qui conduirait à une augmentation abrupte de $\\hat{Z}$). L'objecif est de se rapprocher de l'allure d'une sigmoïde ou d'une indicatrice.\n",
    "- Ensuite, il faut choisir l'abscisse qui approximera le mieux $\\tau$. Nous proposons encore deux méthodes :\n",
    "    - fixer un seuil (par exemple 0.5) est mesurer le premier dépassement de ce seuil par la courbe lissée,\n",
    "    - dériver la coubre lissée et choisir l'abscisse du maximum.\n",
    "    \n",
    "Dans la suite de la réponse, on définira une méthode d'évalutation pour ensuite choisir la meilleure technique d'approximation."
   ]
  },
  {
   "cell_type": "code",
   "execution_count": 94,
   "id": "7fd2a74e",
   "metadata": {},
   "outputs": [],
   "source": [
    "# Fonction pour tester la qualité des résultats\n",
    "\n",
    "def evaluate(estimate, n, mu, a, b, end = 2/mu, rng = np.random.default_rng(None)) :\n",
    "    error = 0\n",
    "    for i in range(n) :\n",
    "        tau, Tas, Tbs = N(mu, a, b, end, rng)\n",
    "        ts, z, jumps = Z(mu, a, b, end, [0] + Tas + Tbs, num = 50)\n",
    "        htau = estimate(ts, z,a,b,mu)\n",
    "        error += np.abs(htau - tau)\n",
    "    return error/n"
   ]
  },
  {
   "cell_type": "code",
   "execution_count": 92,
   "id": "8295d877",
   "metadata": {},
   "outputs": [],
   "source": [
    "def estimate1(ts, z,a,b,mu):\n",
    "    # smooth and > 0.5\n",
    "    d, c = signal.butter(3, 0.005)\n",
    "    zsmo = signal.filtfilt(d, c, z)\n",
    "    index = 0\n",
    "    for i in range(len(zsmo)) :\n",
    "        if zsmo[i] > 0.5 :\n",
    "            index = i\n",
    "            break\n",
    "    return ts[index]"
   ]
  },
  {
   "cell_type": "code",
   "execution_count": 118,
   "id": "8c8145d4",
   "metadata": {},
   "outputs": [
    {
     "data": {
      "image/png": "[encoded data removed]",
      "text/plain": [
       "<Figure size 1152x432 with 1 Axes>"
      ]
     },
     "metadata": {
      "needs_background": "light"
     },
     "output_type": "display_data"
    }
   ],
   "source": [
    "plotN(tau, Tas, Tbs, end, z_estimate = estimate2(ts,z,a,b,mu))"
   ]
  },
  {
   "cell_type": "code",
   "execution_count": 93,
   "id": "121e20b0",
   "metadata": {},
   "outputs": [],
   "source": [
    "def estimate2(ts, z,a,b,mu):\n",
    "    # smooth and derivate\n",
    "    d, c = signal.butter(3, 0.005)\n",
    "    zsmo = signal.filtfilt(d, c, z)\n",
    "    dzsmo = np.gradient(zsmo)\n",
    "    return ts[np.argmax(dzsmo)]"
   ]
  },
  {
   "cell_type": "code",
   "execution_count": 95,
   "id": "ec4861c6",
   "metadata": {},
   "outputs": [],
   "source": [
    "def savgol_derivate(ts,z,a,b,mu):\n",
    "    zfiltered = signal.savgol_filter(z,int(a*b/mu)%2+1+int(a*b/mu),1,1)\n",
    "    return(ts[np.argmax(zfiltered)])"
   ]
  },
  {
   "cell_type": "code",
   "execution_count": 96,
   "id": "692afdeb",
   "metadata": {},
   "outputs": [],
   "source": [
    "def savgol_normal(ts,z,a,b,mu):\n",
    "    zfiltered = signal.savgol_filter(z,int(a*b/mu)%2+1+int(a*b/mu),1,0)\n",
    "    i=0\n",
    "    n=len(zfiltered)\n",
    "    index = 0\n",
    "    for i in range(len(zsmo)) :\n",
    "        if zsmo[i] > 0.5 :\n",
    "            index = i\n",
    "            break\n",
    "    return(ts[index])"
   ]
  },
  {
   "cell_type": "code",
   "execution_count": 101,
   "id": "28f32df6",
   "metadata": {},
   "outputs": [
    {
     "data": {
      "text/plain": [
       "3.1208072705776813"
      ]
     },
     "execution_count": 101,
     "metadata": {},
     "output_type": "execute_result"
    }
   ],
   "source": [
    "seed = 42\n",
    "rng = np.random.default_rng(seed)\n",
    "\n",
    "evaluate(savgol_normal, 1000, 0.2, 5, 10, rng = rng)"
   ]
  },
  {
   "cell_type": "code",
   "execution_count": 107,
   "id": "9a815fbc",
   "metadata": {},
   "outputs": [
    {
     "data": {
      "text/plain": [
       "1.6305295054008255"
      ]
     },
     "execution_count": 107,
     "metadata": {},
     "output_type": "execute_result"
    }
   ],
   "source": [
    "seed = 42\n",
    "rng = np.random.default_rng(seed)\n",
    "\n",
    "evaluate(savgol_derivate, 100, 0.2, 5, 50, rng = rng)"
   ]
  },
  {
   "cell_type": "code",
   "execution_count": 103,
   "id": "389ae964",
   "metadata": {},
   "outputs": [
    {
     "data": {
      "text/plain": [
       "2.7951087001264825"
      ]
     },
     "execution_count": 103,
     "metadata": {},
     "output_type": "execute_result"
    }
   ],
   "source": [
    "seed = 42\n",
    "rng = np.random.default_rng(seed)\n",
    "evaluate(estimate1, 1000, 0.2, 5, 10, rng = rng)"
   ]
  },
  {
   "cell_type": "code",
   "execution_count": 104,
   "id": "3df2bfb9",
   "metadata": {},
   "outputs": [
    {
     "data": {
      "text/plain": [
       "2.4210252591671106"
      ]
     },
     "execution_count": 104,
     "metadata": {},
     "output_type": "execute_result"
    }
   ],
   "source": [
    "seed = 42\n",
    "rng = np.random.default_rng(seed)\n",
    "evaluate(estimate2, 1000, 0.2, 5, 10, rng = rng)"
   ]
  },
  {
   "cell_type": "code",
   "execution_count": null,
   "id": "4b96f4c2",
   "metadata": {},
   "outputs": [],
   "source": [
    "# Tests en dérivant Z\n",
    "\n",
    "dt = ts[1] - ts[0]\n",
    "dZ = np.gradient(z, dt)\n",
    "plt.plot(ts, dZ)"
   ]
  },
  {
   "cell_type": "code",
   "execution_count": null,
   "id": "19efb444",
   "metadata": {},
   "outputs": [],
   "source": [
    "# tests en utilisant que ce qu'on connaît sur les sauts de z\n",
    "\n",
    "# djumps = []\n",
    "# for i in range(len(jumps) - 1):\n",
    "#     djumps.append(abs(jumps[i+1]-jumps[i]))\n",
    "# plt.step(T[:-1], djumps)\n",
    "# djumps = np.array(djumps)\n",
    "# apptau = np.argmax(djumps)\n",
    "# T[apptau] - tau"
   ]
  },
  {
   "cell_type": "code",
   "execution_count": null,
   "id": "4f8d5755",
   "metadata": {},
   "outputs": [],
   "source": [
    "# Tests en smoothant la fonction avec une fonction random choppée sur stackoverflow\n",
    "# ici : https://stackoverflow.com/questions/9876290/how-do-i-compute-derivative-using-numpy\n",
    "\n",
    "def savitzky_golay(y, window_size, order, deriv=0, rate=1):\n",
    "    r\"\"\"Smooth (and optionally differentiate) data with a Savitzky-Golay filter.\n",
    "    The Savitzky-Golay filter removes high frequency noise from data.\n",
    "    It has the advantage of preserving the original shape and\n",
    "    features of the signal better than other types of filtering\n",
    "    approaches, such as moving averages techniques.\n",
    "    Parameters\n",
    "    ----------\n",
    "    y : array_like, shape (N,)\n",
    "        the values of the time history of the signal.\n",
    "    window_size : int\n",
    "        the length of the window. Must be an odd integer number.\n",
    "    order : int\n",
    "        the order of the polynomial used in the filtering.\n",
    "        Must be less then `window_size` - 1.\n",
    "    deriv: int\n",
    "        the order of the derivative to compute (default = 0 means only smoothing)\n",
    "    Returns\n",
    "    -------\n",
    "    ys : ndarray, shape (N)\n",
    "        the smoothed signal (or it's n-th derivative).\n",
    "    Notes\n",
    "    -----\n",
    "    The Savitzky-Golay is a type of low-pass filter, particularly\n",
    "    suited for smoothing noisy data. The main idea behind this\n",
    "    approach is to make for each point a least-square fit with a\n",
    "    polynomial of high order over a odd-sized window centered at\n",
    "    the point.\n",
    "    Examples\n",
    "    --------\n",
    "    t = np.linspace(-4, 4, 500)\n",
    "    y = np.exp( -t**2 ) + np.random.normal(0, 0.05, t.shape)\n",
    "    ysg = savitzky_golay(y, window_size=31, order=4)\n",
    "    import matplotlib.pyplot as plt\n",
    "    plt.plot(t, y, label='Noisy signal')\n",
    "    plt.plot(t, np.exp(-t**2), 'k', lw=1.5, label='Original signal')\n",
    "    plt.plot(t, ysg, 'r', label='Filtered signal')\n",
    "    plt.legend()\n",
    "    plt.show()\n",
    "    References\n",
    "    ----------\n",
    "    .. [1] A. Savitzky, M. J. E. Golay, Smoothing and Differentiation of\n",
    "       Data by Simplified Least Squares Procedures. Analytical\n",
    "       Chemistry, 1964, 36 (8), pp 1627-1639.\n",
    "    .. [2] Numerical Recipes 3rd Edition: The Art of Scientific Computing\n",
    "       W.H. Press, S.A. Teukolsky, W.T. Vetterling, B.P. Flannery\n",
    "       Cambridge University Press ISBN-13: 9780521880688\n",
    "    \"\"\"\n",
    "    import numpy as np\n",
    "    from math import factorial\n",
    "    \n",
    "\n",
    "    window_size = np.abs(np.int(window_size))\n",
    "    order = np.abs(np.int(order))\n",
    "    order_range = range(order+1)\n",
    "    half_window = (window_size -1) // 2\n",
    "    # precompute coefficients\n",
    "    b = np.mat([[k**i for i in order_range] for k in range(-half_window, half_window+1)])\n",
    "    m = np.linalg.pinv(b).A[deriv] * rate**deriv * factorial(deriv)\n",
    "    # pad the signal at the extremes with\n",
    "    # values taken from the signal itself\n",
    "    firstvals = y[0] - np.abs( y[1:half_window+1][::-1] - y[0] )\n",
    "    lastvals = y[-1] + np.abs(y[-half_window-1:-1][::-1] - y[-1])\n",
    "    y = np.concatenate((firstvals, y, lastvals))\n",
    "    return np.convolve( m[::-1], y, mode='valid')\n"
   ]
  },
  {
   "cell_type": "code",
   "execution_count": null,
   "id": "efac0903",
   "metadata": {},
   "outputs": [],
   "source": [
    "zsmooth = savitzky_golay(z, 5000, 5) # window size 51, polynomial order 3\n",
    "\n",
    "plt.plot(ts,zsmooth, color='red')\n",
    "plt.show()"
   ]
  },
  {
   "cell_type": "code",
   "execution_count": 12,
   "id": "2a6bf188",
   "metadata": {},
   "outputs": [
    {
     "ename": "NameError",
     "evalue": "name 'zsmooth' is not defined",
     "output_type": "error",
     "traceback": [
      "\u001b[1;31m---------------------------------------------------------------------------\u001b[0m",
      "\u001b[1;31mNameError\u001b[0m                                 Traceback (most recent call last)",
      "\u001b[1;32m~\\AppData\\Local\\Temp/ipykernel_5936/3718646044.py\u001b[0m in \u001b[0;36m<module>\u001b[1;34m\u001b[0m\n\u001b[1;32m----> 1\u001b[1;33m \u001b[0mdzsmooth\u001b[0m \u001b[1;33m=\u001b[0m \u001b[0mnp\u001b[0m\u001b[1;33m.\u001b[0m\u001b[0mgradient\u001b[0m\u001b[1;33m(\u001b[0m\u001b[0mzsmooth\u001b[0m\u001b[1;33m,\u001b[0m \u001b[0mdt\u001b[0m\u001b[1;33m)\u001b[0m\u001b[1;33m\u001b[0m\u001b[1;33m\u001b[0m\u001b[0m\n\u001b[0m\u001b[0;32m      2\u001b[0m \u001b[0mplt\u001b[0m\u001b[1;33m.\u001b[0m\u001b[0mplot\u001b[0m\u001b[1;33m(\u001b[0m\u001b[0mts\u001b[0m\u001b[1;33m,\u001b[0m \u001b[0mdzsmooth\u001b[0m\u001b[1;33m)\u001b[0m\u001b[1;33m\u001b[0m\u001b[1;33m\u001b[0m\u001b[0m\n",
      "\u001b[1;31mNameError\u001b[0m: name 'zsmooth' is not defined"
     ]
    }
   ],
   "source": [
    "dzsmooth = np.gradient(zsmooth, dt)\n",
    "plt.plot(ts, dzsmooth)"
   ]
  },
  {
   "cell_type": "code",
   "execution_count": 19,
   "id": "8b59ed01",
   "metadata": {},
   "outputs": [
    {
     "name": "stdout",
     "output_type": "stream",
     "text": [
      "2.506142780057447\n"
     ]
    },
    {
     "data": {
      "image/png": "[encoded data removed]",
      "text/plain": [
       "<Figure size 432x288 with 1 Axes>"
      ]
     },
     "metadata": {
      "needs_background": "light"
     },
     "output_type": "display_data"
    }
   ],
   "source": [
    "# smooth avec lfilter\n",
    "b, a = signal.butter(3, 0.005)\n",
    "zsmo = signal.filtfilt(b, a, z)\n",
    "plt.plot(ts, zsmo)\n",
    "indic = 0\n",
    "for i in range(len(zsmo)) :\n",
    "    if zsmo[i] > 0.5 :\n",
    "        indic = i\n",
    "        break\n",
    "print(ts[i])"
   ]
  },
  {
   "cell_type": "markdown",
   "id": "150a13bf",
   "metadata": {},
   "source": [
    "$\\textbf{Question 4}$\n",
    "\n",
    "On commence par une application naïve de l'algorithme."
   ]
  },
  {
   "cell_type": "code",
   "execution_count": null,
   "id": "efea2124",
   "metadata": {},
   "outputs": [],
   "source": [
    "kmeans = KMeans(n_clusters=2, n_init=10, init='k-means++').fit(np.array(T).reshape(-1, 1))\n",
    "# , random_state=np.random.RandomState(seed)\n",
    "pred = kmeans.predict(np.array(T).reshape(-1, 1))\n",
    "p = abs((1-pred[0])-pred)\n",
    "\n",
    "plotN(tau, Tas, Tbs, end, kmeans_estimate = (T[p.sum()-1], T[p.sum()]))"
   ]
  },
  {
   "cell_type": "markdown",
   "id": "39a529af",
   "metadata": {},
   "source": [
    "On change maintenant l'initialisation en utilisant la valeur de $\\mu$."
   ]
  },
  {
   "cell_type": "code",
   "execution_count": null,
   "id": "558f6b70",
   "metadata": {},
   "outputs": [],
   "source": [
    "m = np.array(T).mean()\n",
    "def init(X, n_clusters, random_state):\n",
    "    # We have only one feature :\n",
    "    X = X.flatten() + m\n",
    "    i = len([x for x in X if x < 1/mu])\n",
    "    n = len(X)\n",
    "    return [X[random_state.randint(i, n)]-m], [X[random_state.randint(0, i)]-m]"
   ]
  },
  {
   "cell_type": "code",
   "execution_count": null,
   "id": "6d0c8a9c",
   "metadata": {},
   "outputs": [],
   "source": [
    "kmeans = KMeans(n_clusters=2, n_init=10, init=init).fit(np.array(T).reshape(-1, 1))\n",
    "pred = kmeans.predict(np.array(T).reshape(-1, 1))\n",
    "p = abs((1-pred[0])-pred)\n",
    "\n",
    "plotN(tau, Tas, Tbs, end, kmeans_estimate = (T[p.sum()-1], T[p.sum()]))"
   ]
  },
  {
   "cell_type": "markdown",
   "id": "b9447af9",
   "metadata": {},
   "source": [
    "$\\textbf{Question 5}$\n",
    "- Pour k means il choisit un des sauts qui lui apparaissent bons mais aléatoirement\n",
    "- k means n'utilise pas les données d'entrée (a,b,$\\mu$)\n",
    "- Pour l'autre méthode, on peut regarder la stabilité qui suit et donc choisir le seul truc stable"
   ]
  }
 ],
 "metadata": {
  "kernelspec": {
   "display_name": "Python 3 (ipykernel)",
   "language": "python",
   "name": "python3"
  },
  "language_info": {
   "codemirror_mode": {
    "name": "ipython",
    "version": 3
   },
   "file_extension": ".py",
   "mimetype": "text/x-python",
   "name": "python",
   "nbconvert_exporter": "python",
   "pygments_lexer": "ipython3",
   "version": "3.9.7"
  }
 },
 "nbformat": 4,
 "nbformat_minor": 5
}
