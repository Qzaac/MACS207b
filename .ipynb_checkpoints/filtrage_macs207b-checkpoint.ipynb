{
 "cells": [
  {
   "cell_type": "code",
   "execution_count": 326,
   "id": "b6d079f7",
   "metadata": {},
   "outputs": [],
   "source": [
    "import numpy as np\n",
    "import matplotlib.pyplot as plt\n",
    "from scipy.integrate import odeint\n",
    "\n",
    "mu = 0.2\n",
    "a = 5\n",
    "b = 10"
   ]
  },
  {
   "cell_type": "markdown",
   "id": "5bd82ab3",
   "metadata": {},
   "source": [
    "$\\textbf{Question 1}$\n",
    "\n",
    "$$ h(s)=\\frac{f(s)}{1-F(s)}= \\left\\{\n",
    "    \\begin{array}{ll}\n",
    "        \\frac{\\mu\\exp(-\\mu s)}{\\exp(-\\mu s)} & \\mbox{si } s \\in \\mathbb{R}_+ \\\\\n",
    "        0 & \\mbox{sinon.}\n",
    "    \\end{array}\n",
    "\\right. = \\mu \\mathbb{1}_{\\mathbb{R}_+}(s) $$"
   ]
  },
  {
   "cell_type": "markdown",
   "id": "5992b58e",
   "metadata": {},
   "source": [
    "$\\textbf{Question 2}$"
   ]
  },
  {
   "cell_type": "code",
   "execution_count": 332,
   "id": "7b9773e7",
   "metadata": {},
   "outputs": [
    {
     "data": {
      "image/png": "[encoded data removed]",
      "text/plain": [
       "<Figure size 1152x432 with 1 Axes>"
      ]
     },
     "metadata": {
      "needs_background": "light"
     },
     "output_type": "display_data"
    }
   ],
   "source": [
    "# Tirage de tau\n",
    "# taus = []\n",
    "# for i in range(1000) :\n",
    "#     u = np.random.uniform()\n",
    "#     tau = -1/mu*np.log(u)\n",
    "#     taus.append(tau)\n",
    "    \n",
    "# plt.hist(taus)\n",
    "# plt.plot()\n",
    "\n",
    "#TODO np.random.seed(42)\n",
    "\n",
    "u = np.random.uniform()\n",
    "tau = -1/mu*np.log(u)\n",
    "\n",
    "# Tirage des instants de saut de Na\n",
    "Tas = []\n",
    "t = 0\n",
    "while t <= min(tau, 10):\n",
    "    u = np.random.uniform()\n",
    "    t += -1/a*np.log(u)\n",
    "    Tas.append(t)\n",
    "Tas.pop()\n",
    "    \n",
    "# Tirage des instants de saut de Nb\n",
    "Tbs = []\n",
    "t = tau\n",
    "while t <= 10:\n",
    "    u = np.random.uniform()\n",
    "    t += -1/b*np.log(u)\n",
    "    Tbs.append(t)\n",
    "if Tbs:\n",
    "    Tbs.pop()    \n",
    "\n",
    "plt.figure(figsize = (16,6))\n",
    "plt.step([0] + Tas + Tbs + [10], [0] + [i for i in range(len(Tas + Tbs) + 1)], label=\"N\")\n",
    "if tau <= 10:\n",
    "    plt.vlines(tau, 0, len(Tas + Tbs) + 1, color='r', label=f\"$tau = {tau}$\")\n",
    "else:\n",
    "    plt.vlines(0, 0, 0, color='r', label=f\"$tau = {tau}$\")\n",
    "plt.legend()\n",
    "plt.xticks(range(11))\n",
    "plt.grid()"
   ]
  },
  {
   "cell_type": "code",
   "execution_count": 328,
   "id": "99f12a4d",
   "metadata": {},
   "outputs": [],
   "source": [
    "def N(t) :\n",
    "    return len([e for e in Tas+Tbs if e <= t])"
   ]
  },
  {
   "cell_type": "markdown",
   "id": "7d8d1533",
   "metadata": {},
   "source": [
    "$\\textbf{Question 3}$"
   ]
  },
  {
   "cell_type": "code",
   "execution_count": 333,
   "id": "4b1111f5",
   "metadata": {},
   "outputs": [
    {
     "data": {
      "text/plain": [
       "[<matplotlib.lines.Line2D at 0x1c9d5630250>]"
      ]
     },
     "execution_count": 333,
     "metadata": {},
     "output_type": "execute_result"
    },
    {
     "data": {
      "image/png": "[encoded data removed]",
      "text/plain": [
       "<Figure size 432x288 with 1 Axes>"
      ]
     },
     "metadata": {
      "needs_background": "light"
     },
     "output_type": "display_data"
    }
   ],
   "source": [
    "def dZ(y, t):\n",
    "    return (mu - (b - a)*y)*(1 - y)\n",
    "\n",
    "# Calcul de Z\n",
    "def Z(num):\n",
    "    z = [0]\n",
    "    ts = []\n",
    "    T = [0] + Tas + Tbs\n",
    "    for i in range(len(T) - 1):\n",
    "        t = np.linspace(T[i], T[i+1], num)[:-1]\n",
    "        ts += list(t)\n",
    "        z = np.append(z, odeint(dZ, z[-1], t).flatten())\n",
    "        zjump = (b-a)*z[-1]*(1 - z[-1])/(a + (b-a)*z[-1])\n",
    "        z = np.append(z, zjump + z[-1])\n",
    "        ts.append(T[i+1])\n",
    "    return ts, z[1:]\n",
    "\n",
    "z = Z(50)\n",
    "plt.plot(z[0], z[1])"
   ]
  },
  {
   "cell_type": "markdown",
   "id": "a36b9e5c",
   "metadata": {},
   "source": [
    "$\\textbf{Estimation tau ???}$"
   ]
  },
  {
   "cell_type": "markdown",
   "id": "3d63fdb8",
   "metadata": {},
   "source": [
    "$\\textbf{Estimation tau ???}$"
   ]
  },
  {
   "cell_type": "markdown",
   "id": "80063b58",
   "metadata": {},
   "source": [
    "$\\textbf{Estimation tau ???}$"
   ]
  },
  {
   "cell_type": "markdown",
   "id": "ba7ef171",
   "metadata": {},
   "source": [
    "$\\textbf{Estimation tau ???}$"
   ]
  },
  {
   "cell_type": "markdown",
   "id": "74bb1d3e",
   "metadata": {},
   "source": [
    "$\\textbf{Estimation tau ???}$"
   ]
  },
  {
   "cell_type": "markdown",
   "id": "acec5764",
   "metadata": {},
   "source": [
    "$\\textbf{Estimation tau ???}$"
   ]
  },
  {
   "cell_type": "markdown",
   "id": "235f315a",
   "metadata": {},
   "source": [
    "$\\textbf{Estimation tau ???}$"
   ]
  },
  {
   "cell_type": "markdown",
   "id": "f49f8799",
   "metadata": {},
   "source": [
    "$\\textbf{Question 4}$"
   ]
  },
  {
   "cell_type": "code",
   "execution_count": null,
   "id": "7cb2eb66",
   "metadata": {},
   "outputs": [],
   "source": []
  },
  {
   "cell_type": "code",
   "execution_count": null,
   "id": "777314d2",
   "metadata": {},
   "outputs": [],
   "source": []
  }
 ],
 "metadata": {
  "kernelspec": {
   "display_name": "Python 3 (ipykernel)",
   "language": "python",
   "name": "python3"
  },
  "language_info": {
   "codemirror_mode": {
    "name": "ipython",
    "version": 3
   },
   "file_extension": ".py",
   "mimetype": "text/x-python",
   "name": "python",
   "nbconvert_exporter": "python",
   "pygments_lexer": "ipython3",
   "version": "3.9.7"
  }
 },
 "nbformat": 4,
 "nbformat_minor": 5
}
